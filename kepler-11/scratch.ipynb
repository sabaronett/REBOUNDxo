{
 "cells": [
  {
   "cell_type": "code",
   "execution_count": 12,
   "metadata": {},
   "outputs": [
    {
     "name": "stdout",
     "output_type": "stream",
     "text": [
      "1.32e-06 s per timestep in ET sim\n"
     ]
    }
   ],
   "source": [
    "Tmerc = 0.240846 # Mercury's orbital period in yr\n",
    "ETdt = 0.1*Tmerc # timestep in yr\n",
    "ETt = 920e3      # total sim time in yr\n",
    "ETs = ETt/ETdt   # total number of timesteps\n",
    "ETrt = 50.4      # runtime in s\n",
    "dtds = ETrt/ETs  # time per step s\n",
    "print('{:.2e} s per timestep in ET sim'.format(dtds))"
   ]
  },
  {
   "cell_type": "code",
   "execution_count": null,
   "metadata": {},
   "outputs": [],
   "source": [
    "Tk11b = 10.3039/365.25 # Kepler-11b's orbital period in yr\n",
    "k11dt = 0.1*Tk11b     # timestep in yr\n",
    "k11t = 1e6\n",
    "k11rt = k\n"
   ]
  }
 ],
 "metadata": {
  "kernelspec": {
   "display_name": "REBOUNDx (3.1.0)",
   "language": "python",
   "name": "rebx-3.1.0"
  },
  "language_info": {
   "codemirror_mode": {
    "name": "ipython",
    "version": 3
   },
   "file_extension": ".py",
   "mimetype": "text/x-python",
   "name": "python",
   "nbconvert_exporter": "python",
   "pygments_lexer": "ipython3",
   "version": "3.8.3"
  },
  "widgets": {
   "application/vnd.jupyter.widget-state+json": {
    "state": {},
    "version_major": 2,
    "version_minor": 0
   }
  }
 },
 "nbformat": 4,
 "nbformat_minor": 4
}
